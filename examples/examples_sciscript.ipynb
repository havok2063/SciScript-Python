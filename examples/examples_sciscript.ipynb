{
 "cells": [
  {
   "cell_type": "code",
   "execution_count": 1,
   "metadata": {
    "collapsed": false,
    "scrolled": true
   },
   "outputs": [],
   "source": [
    "import os\n",
    "import pandas\n",
    "import sys\n",
    "import json\n",
    "from io import StringIO, BytesIO\n",
    "import numpy as np\n",
    "import matplotlib.pyplot as plt\n",
    "%matplotlib inline  \n",
    "from sciserver import config, authentication, loginportal, casjobs, skyquery, scidrive, skyserver\n",
    "\n",
    "# Define login Name and password before running these examples\n",
    "Authentication_loginName = 'testuser'\n",
    "Authentication_loginPassword = 'testpass'"
   ]
  },
  {
   "cell_type": "markdown",
   "metadata": {},
   "source": [
    "# Authentication:"
   ]
  },
  {
   "cell_type": "code",
   "execution_count": 2,
   "metadata": {
    "collapsed": false
   },
   "outputs": [
    {
     "name": "stdout",
     "output_type": "stream",
     "text": [
      "Help on module sciserver.authentication in sciserver:\n",
      "\n",
      "NAME\n",
      "    sciserver.authentication\n",
      "\n",
      "FILE\n",
      "    /Users/Brian/Work/github_projects/SciScript-Python/python/sciserver/authentication.py\n",
      "\n",
      "DESCRIPTION\n",
      "    # !usr/bin/env python\n",
      "    # -*- coding: utf-8 -*-\n",
      "    #\n",
      "    # Licensed under a 3-clause BSD license.\n",
      "    #\n",
      "    # @Author: Brian Cherinka\n",
      "    # @Date:   2017-08-04 14:41:52\n",
      "    # @Last modified by:   Brian Cherinka\n",
      "    # @Last Modified time: 2017-08-10 08:34:27\n",
      "\n",
      "CLASSES\n",
      "    __builtin__.object\n",
      "        KeystoneUser\n",
      "        Token\n",
      "    \n",
      "    class KeystoneUser(__builtin__.object)\n",
      "     |  The class KeystoneUser stores the 'id' and 'name' of the user.\n",
      "     |  \n",
      "     |  Data descriptors defined here:\n",
      "     |  \n",
      "     |  __dict__\n",
      "     |      dictionary for instance variables (if defined)\n",
      "     |  \n",
      "     |  __weakref__\n",
      "     |      list of weak references to the object (if defined)\n",
      "     |  \n",
      "     |  ----------------------------------------------------------------------\n",
      "     |  Data and other attributes defined here:\n",
      "     |  \n",
      "     |  userName = None\n",
      "     |  \n",
      "     |  userid = None\n",
      "    \n",
      "    class Token(__builtin__.object)\n",
      "     |  The class token stores the authentication token of the user in a particular session.\n",
      "     |  \n",
      "     |  Data descriptors defined here:\n",
      "     |  \n",
      "     |  __dict__\n",
      "     |      dictionary for instance variables (if defined)\n",
      "     |  \n",
      "     |  __weakref__\n",
      "     |      list of weak references to the object (if defined)\n",
      "     |  \n",
      "     |  ----------------------------------------------------------------------\n",
      "     |  Data and other attributes defined here:\n",
      "     |  \n",
      "     |  value = None\n",
      "\n",
      "FUNCTIONS\n",
      "    getKeystoneToken()\n",
      "        .. warning:: Deprecated. Use Authentication.getToken instead.\n",
      "        \n",
      "        Returns the users keystone token passed into the python instance with the --ident argument.\n",
      "        \n",
      "        :return: authentication token (string)\n",
      "        :example: token = Authentication.getKeystoneToken()\n",
      "        \n",
      "        .. seealso:: Authentication.getKeystoneUserWithToken, Authentication.login, Authentication.setToken, Authentication.token, Authentication.getToken.\n",
      "    \n",
      "    getKeystoneUserWithToken(token)\n",
      "        Returns the name and Keystone id of the user corresponding to the specified token.\n",
      "        \n",
      "        :param token: Sciserver's authentication token (string) for the user.\n",
      "        :return: Returns a KeystoneUser object, which stores the name and id of the user.\n",
      "        :raises: Throws an exception if the HTTP request to the Authentication URL returns an error.\n",
      "        :example: token = Authentication.getKeystoneUserWithToken(Authentication.getToken())\n",
      "        \n",
      "        .. seealso:: Authentication.getToken, Authentication.login, Authentication.setToken.\n",
      "    \n",
      "    getToken()\n",
      "        Returns the SciServer authentication token of the user. First, will try to\n",
      "        return Authentication.token.value. If Authentication.token.value is not set,\n",
      "        Authentication.getToken will try to return the token value in the python instance\n",
      "        argument variable \"--ident\". If this variable does not exist, will try to return the token\n",
      "        stored in config.KeystoneTokenFilePath. Will return a None value if all previous steps fail.\n",
      "        \n",
      "        :return: authentication token (string)\n",
      "        :example: token = Authentication.getToken()\n",
      "        \n",
      "        .. seealso:: Authentication.getKeystoneUserWithToken, Authentication.login, Authentication.setToken, Authentication.token.\n",
      "    \n",
      "    identArgIdentifier()\n",
      "        Returns the name of the python instance argument variable where the user token is stored.\n",
      "        \n",
      "        :return: name (string) of the python instance argument variable where the user token is stored.\n",
      "        :example: name = Authentication.identArgIdentifier()\n",
      "        \n",
      "        .. seealso:: Authentication.getKeystoneUserWithToken, Authentication.login, Authentication.getToken, Authentication.token.\n",
      "    \n",
      "    login(UserName, Password)\n",
      "        Logs the user into SciServer and returns the authentication token.\n",
      "        This function is useful when SciScript-Python library methods are executed outside\n",
      "        the SciServer-Compute environment. In this case, the session authentication token\n",
      "        does not exist (and therefore can't be automatically recognized), so the user has to use\n",
      "        Authentication.login in order to log into SciServer manually and get the authentication token.\n",
      "        Authentication.login also sets the token value in the python instance argument variable\n",
      "        \"--ident\", and as the local object Authentication.token (of class Authentication.Token).\n",
      "        \n",
      "        :param UserName: name of the user (string)\n",
      "        :param Password: password of the user (string)\n",
      "        :return: authentication token (string)\n",
      "        :raises: Throws an exception if the HTTP request to the Authentication URL returns an error.\n",
      "        :example: token = Authentication.login('loginName','loginPassword')\n",
      "        \n",
      "        .. seealso:: Authentication.getKeystoneUserWithToken, Authentication.getToken, Authentication.setToken, Authentication.token.\n",
      "    \n",
      "    setKeystoneToken(_token)\n",
      "        .. warning:: Deprecated. Use Authentication.setToken instead.\n",
      "        \n",
      "        Sets the token as the --ident argument\n",
      "        \n",
      "        :param _token: authentication token (string)\n",
      "        :example: Authentication.setKeystoneToken(\"myToken\")\n",
      "        \n",
      "        .. seealso:: Authentication.getKeystoneUserWithToken, Authentication.login, Authentication.setToken, Authentication.token, Authentication.getToken.\n",
      "    \n",
      "    setToken(_token)\n",
      "        Sets the SciServer authentication token of the user in the variable Authentication.token.value,\n",
      "        as well as in the python instance argument variable \"--ident\".\n",
      "        \n",
      "        :param _token: Sciserver's authentication token for the user (string)\n",
      "        :example: Authentication.setToken('myToken')\n",
      "        \n",
      "        .. seealso:: Authentication.getKeystoneUserWithToken, Authentication.login, Authentication.getToken, Authentication.token.\n",
      "\n",
      "DATA\n",
      "    __author__ = 'gerard,mtaghiza'\n",
      "    absolute_import = _Feature((2, 5, 0, 'alpha', 1), (3, 0, 0, 'alpha', 0...\n",
      "    config = <sciserver.SciServerConfig object>\n",
      "    division = _Feature((2, 2, 0, 'alpha', 2), (3, 0, 0, 'alpha', 0), 8192...\n",
      "    print_function = _Feature((2, 6, 0, 'alpha', 2), (3, 0, 0, 'alpha', 0)...\n",
      "    token = <sciserver.authentication.Token object>\n",
      "\n",
      "AUTHOR\n",
      "    gerard,mtaghiza\n",
      "\n",
      "\n"
     ]
    }
   ],
   "source": [
    "# to get help on module or function\n",
    "authentication?\n",
    "# or\n",
    "help(authentication)"
   ]
  },
  {
   "cell_type": "code",
   "execution_count": 3,
   "metadata": {
    "collapsed": false
   },
   "outputs": [
    {
     "name": "stdout",
     "output_type": "stream",
     "text": [
      "token1=3aeb674cd3704c53b048959e136c33b2\n",
      "token2=3aeb674cd3704c53b048959e136c33b2\n",
      "token3=3aeb674cd3704c53b048959e136c33b2\n",
      "token4=3aeb674cd3704c53b048959e136c33b2\n"
     ]
    },
    {
     "name": "stderr",
     "output_type": "stream",
     "text": [
      "/Users/Brian/anaconda2/lib/python2.7/site-packages/ipykernel/__main__.py:4: DeprecationWarning: Using SciServer.Authentication.getKeystoneToken is deprecated.Use SciServer.Authentication.getToken instead.\n"
     ]
    }
   ],
   "source": [
    "# logging in and getting current token from different ways\n",
    "token1 = authentication.login(Authentication_loginName, Authentication_loginPassword);\n",
    "token2 = authentication.getToken()\n",
    "token3 = authentication.getKeystoneToken()\n",
    "token4 = authentication.token.value\n",
    "config.token = token2\n",
    "print(\"token1=\" + token1)\n",
    "print(\"token2=\" + token2)\n",
    "print(\"token3=\" + token3)\n",
    "print(\"token4=\" + token4)"
   ]
  },
  {
   "cell_type": "code",
   "execution_count": 4,
   "metadata": {
    "collapsed": false
   },
   "outputs": [
    {
     "name": "stdout",
     "output_type": "stream",
     "text": [
      "userName=testuser\n",
      "id=8eb32dc414e94d329d07ba5c01fa9dcb\n",
      "ident=--ident=\n"
     ]
    }
   ],
   "source": [
    "# getting curent user info\n",
    "user = authentication.getKeystoneUserWithToken(token1)\n",
    "print(\"userName=\" + user.userName)\n",
    "print(\"id=\" + user.userid)\n",
    "iden = authentication.identArgIdentifier()\n",
    "print(\"ident=\"+iden)"
   ]
  },
  {
   "cell_type": "code",
   "execution_count": 5,
   "metadata": {
    "collapsed": false
   },
   "outputs": [
    {
     "name": "stdout",
     "output_type": "stream",
     "text": [
      "token5=myToken1\n",
      "token6=myToken2\n"
     ]
    },
    {
     "name": "stderr",
     "output_type": "stream",
     "text": [
      "/Users/Brian/anaconda2/lib/python2.7/site-packages/ipykernel/__main__.py:4: DeprecationWarning: Using SciServer.Authentication.setKeystoneToken is deprecated.Use SciServer.Authentication.setToken instead.\n",
      "/Users/Brian/anaconda2/lib/python2.7/site-packages/ipykernel/__main__.py:5: DeprecationWarning: Using SciServer.Authentication.getKeystoneToken is deprecated.Use SciServer.Authentication.getToken instead.\n"
     ]
    }
   ],
   "source": [
    "# reseting the current token to another value:\n",
    "authentication.setToken(\"myToken1\")\n",
    "token5 = authentication.getToken()\n",
    "authentication.setKeystoneToken(\"myToken2\")\n",
    "token6 = authentication.getKeystoneToken()\n",
    "\n",
    "print(\"token5=\" + token5)\n",
    "print(\"token6=\" + token6)"
   ]
  },
  {
   "cell_type": "code",
   "execution_count": 6,
   "metadata": {
    "collapsed": true
   },
   "outputs": [],
   "source": [
    "# logging-in again\n",
    "token1 = authentication.login(Authentication_loginName, Authentication_loginPassword);"
   ]
  },
  {
   "cell_type": "markdown",
   "metadata": {
    "collapsed": true
   },
   "source": [
    "\n",
    "# LoginPortal:"
   ]
  },
  {
   "cell_type": "code",
   "execution_count": 7,
   "metadata": {
    "collapsed": false
   },
   "outputs": [
    {
     "name": "stdout",
     "output_type": "stream",
     "text": [
      "token1=2a9dcda70875475f9de26b251f5b3437\n",
      "token2=2a9dcda70875475f9de26b251f5b3437\n",
      "token3=2a9dcda70875475f9de26b251f5b3437\n"
     ]
    },
    {
     "name": "stderr",
     "output_type": "stream",
     "text": [
      "/Users/Brian/anaconda2/lib/python2.7/site-packages/ipykernel/__main__.py:2: DeprecationWarning: Using SciServer.LoginPortal.login is deprecated.Use auth.login instead.\n",
      "  from ipykernel import kernelapp as app\n",
      "/Users/Brian/anaconda2/lib/python2.7/site-packages/ipykernel/__main__.py:3: DeprecationWarning: Using SciServer.LoginPortal.getToken is deprecated. Use auth.getToken instead.\n",
      "  app.launch_new_instance()\n",
      "/Users/Brian/anaconda2/lib/python2.7/site-packages/ipykernel/__main__.py:4: DeprecationWarning: Using SciServer.LoginPortal.getKeystoneToken is deprecated. Use auth.getToken instead.\n"
     ]
    }
   ],
   "source": [
    "# logging in and getting current token from different ways\n",
    "token1 = loginportal.login(Authentication_loginName, Authentication_loginPassword);\n",
    "token2 = loginportal.getToken()\n",
    "token3 = loginportal.getKeystoneToken()\n",
    "print(\"token1=\" + token1)\n",
    "print(\"token2=\" + token2)\n",
    "print(\"token3=\" + token3)"
   ]
  },
  {
   "cell_type": "code",
   "execution_count": 8,
   "metadata": {
    "collapsed": false
   },
   "outputs": [
    {
     "name": "stdout",
     "output_type": "stream",
     "text": [
      "userName=testuser\n",
      "id=8eb32dc414e94d329d07ba5c01fa9dcb\n",
      "ident=--ident=\n"
     ]
    },
    {
     "name": "stderr",
     "output_type": "stream",
     "text": [
      "/Users/Brian/anaconda2/lib/python2.7/site-packages/ipykernel/__main__.py:2: DeprecationWarning: Using SciServer.LoginPortal.getKeystoneUserWithToken is deprecated. Use auth.getKeystoneUserWithToken instead.\n",
      "  from ipykernel import kernelapp as app\n",
      "/Users/Brian/anaconda2/lib/python2.7/site-packages/ipykernel/__main__.py:5: DeprecationWarning: Using auth.identArgIdentifier is deprecated. Use auth.identArgIdentifier instead.\n"
     ]
    }
   ],
   "source": [
    "# getting curent user info\n",
    "user = loginportal.getKeystoneUserWithToken(token1)\n",
    "print(\"userName=\" + user.userName)\n",
    "print(\"id=\" + user.userid)#\n",
    "iden = loginportal.identArgIdentifier()\n",
    "print(\"ident=\"+iden)#"
   ]
  },
  {
   "cell_type": "code",
   "execution_count": 9,
   "metadata": {
    "collapsed": false
   },
   "outputs": [
    {
     "name": "stdout",
     "output_type": "stream",
     "text": [
      "token6=myToken2\n"
     ]
    },
    {
     "name": "stderr",
     "output_type": "stream",
     "text": [
      "/Users/Brian/anaconda2/lib/python2.7/site-packages/ipykernel/__main__.py:2: DeprecationWarning: Using SciServer.LoginPortal.getKeystoneToken is deprecated. Use auth.setToken instead.\n",
      "  from ipykernel import kernelapp as app\n",
      "/Users/Brian/anaconda2/lib/python2.7/site-packages/ipykernel/__main__.py:3: DeprecationWarning: Using SciServer.LoginPortal.getKeystoneToken is deprecated. Use auth.getToken instead.\n",
      "  app.launch_new_instance()\n"
     ]
    }
   ],
   "source": [
    "# reseting the current token to another value:\n",
    "loginportal.setKeystoneToken(\"myToken2\")\n",
    "token6 = loginportal.getKeystoneToken()\n",
    "print(\"token6=\" + token6)"
   ]
  },
  {
   "cell_type": "code",
   "execution_count": 10,
   "metadata": {
    "collapsed": false
   },
   "outputs": [
    {
     "name": "stderr",
     "output_type": "stream",
     "text": [
      "/Users/Brian/anaconda2/lib/python2.7/site-packages/ipykernel/__main__.py:2: DeprecationWarning: Using SciServer.LoginPortal.login is deprecated.Use auth.login instead.\n",
      "  from ipykernel import kernelapp as app\n"
     ]
    }
   ],
   "source": [
    "# logging-in again\n",
    "token1 = loginportal.login(Authentication_loginName, Authentication_loginPassword);"
   ]
  },
  {
   "cell_type": "markdown",
   "metadata": {
    "collapsed": false
   },
   "source": [
    "# CasJobs:"
   ]
  },
  {
   "cell_type": "code",
   "execution_count": 11,
   "metadata": {
    "collapsed": true
   },
   "outputs": [],
   "source": [
    "# Defining databse context and query, and other variables\n",
    "CasJobs_TestDatabase = \"MyDB\"\n",
    "CasJobs_TestQuery = \"select 4 as Column1, 5 as Column2 \"\n",
    "CasJobs_TestTableName1 = \"MyNewtable1\"\n",
    "CasJobs_TestTableName2 = \"MyNewtable2\"\n",
    "CasJobs_TestTableCSV = u\"Column1,Column2\\n4,5\\n\"\n",
    "CasJobs_TestFitsFile = \"SciScriptTestFile.fits\"\n",
    "CasJobs_TestCSVFile = \"SciScriptTestFile.csv\""
   ]
  },
  {
   "cell_type": "code",
   "execution_count": 12,
   "metadata": {
    "collapsed": false
   },
   "outputs": [
    {
     "name": "stdout",
     "output_type": "stream",
     "text": [
      "wsid_1029563400\n"
     ]
    }
   ],
   "source": [
    "# get user schema info\n",
    "casJobsId = casjobs.getSchemaName()\n",
    "print(casJobsId)"
   ]
  },
  {
   "cell_type": "code",
   "execution_count": 13,
   "metadata": {
    "collapsed": false
   },
   "outputs": [
    {
     "name": "stdout",
     "output_type": "stream",
     "text": [
      "[{u'Date': 636379566662800000, u'Rows': 3, u'Name': u'QuickResults', u'Size': 208}]\n"
     ]
    }
   ],
   "source": [
    "# get info about tables inside MyDB database context:\n",
    "tables = casjobs.getTables(context=\"MyDB\")\n",
    "print(tables)"
   ]
  },
  {
   "cell_type": "code",
   "execution_count": 14,
   "metadata": {
    "collapsed": false
   },
   "outputs": [
    {
     "name": "stdout",
     "output_type": "stream",
     "text": [
      "   Column1  Column2\n",
      "0        4        5\n"
     ]
    }
   ],
   "source": [
    "# execute a quick SQL query:\n",
    "df = casjobs.executeQuery(sql=CasJobs_TestQuery, context=CasJobs_TestDatabase, outformat=\"pandas\")\n",
    "print(df)"
   ]
  },
  {
   "cell_type": "code",
   "execution_count": 15,
   "metadata": {
    "collapsed": false
   },
   "outputs": [
    {
     "name": "stdout",
     "output_type": "stream",
     "text": [
      "30038003\n",
      "{u'Status': 5, u'TimeStart': u'2017-08-10T10:13:26.843', u'Rows': 1, u'Target': u'MyDB', u'SendEmail': 0, u'Message': u'Query Complete', u'ModifiedQuery': u'select 4 as Column1, 5 as Column2  /*CASJOBS_INTO_TABLE:[sdss3q].mydb_1029563400.webuser.MyNewtable1*/', u'Created_Table': u'MyNewtable1', u'TimeEnd': u'2017-08-10T10:13:27', u'JobID': 30038003, u'WebServicesID': 1029563400, u'TimeSubmit': u'2017-08-10T10:13:25.737', u'Params': u'', u'HostIP': u'SQL001DBHost   ', u'Query': u'select 4 as Column1, 5 as Column2  into MyDB.MyNewtable1', u'Estimate': 500, u'OutputType': u'QUERY', u'TaskName': u'SciScript-Python.CasJobs.submitJob', u'OutputLoc': u'', u'AutoComplete': 0}\n"
     ]
    }
   ],
   "source": [
    "# submit a job, which inserts the query results into a table in the MyDB database context. \n",
    "# Wait until the job is done and get its status.\n",
    "jobId = casjobs.submitJob(sql=CasJobs_TestQuery + \" into MyDB.\" + CasJobs_TestTableName1, context=\"MyDB\")\n",
    "jobDescription = casjobs.waitForJob(jobId=jobId, verbose=False)\n",
    "print(jobId)\n",
    "print(jobDescription)"
   ]
  },
  {
   "cell_type": "code",
   "execution_count": 16,
   "metadata": {
    "collapsed": false
   },
   "outputs": [
    {
     "name": "stdout",
     "output_type": "stream",
     "text": [
      "   Rows Affected\n",
      "0              0\n"
     ]
    }
   ],
   "source": [
    "# drop or delete table in MyDB database context\n",
    "df = casjobs.executeQuery(sql=\"DROP TABLE \" + CasJobs_TestTableName1, context=\"MyDB\", outformat=\"pandas\")\n",
    "print(df)"
   ]
  },
  {
   "cell_type": "code",
   "execution_count": 17,
   "metadata": {
    "collapsed": false
   },
   "outputs": [
    {
     "name": "stdout",
     "output_type": "stream",
     "text": [
      "30038006\n",
      "{u'Status': 0, u'TimeStart': None, u'Rows': None, u'Target': u'MyDB', u'SendEmail': 0, u'Message': u'', u'ModifiedQuery': u'select 4 as Column1, 5 as Column2', u'Created_Table': u'', u'TimeEnd': None, u'JobID': 30038006, u'WebServicesID': 1029563400, u'TimeSubmit': u'2017-08-10T10:13:29.287', u'Params': u'', u'HostIP': u'               ', u'Query': u'select 4 as Column1, 5 as Column2 ', u'Estimate': 500, u'OutputType': u'QUERY', u'TaskName': u'SciScript-Python.CasJobs.submitJob', u'OutputLoc': u'', u'AutoComplete': 0}\n"
     ]
    }
   ],
   "source": [
    "# get job status\n",
    "jobId = casjobs.submitJob(sql=CasJobs_TestQuery, context=CasJobs_TestDatabase)\n",
    "jobDescription = casjobs.getJobStatus(jobId)\n",
    "print(jobId)\n",
    "print(jobDescription)"
   ]
  },
  {
   "cell_type": "code",
   "execution_count": 18,
   "metadata": {
    "collapsed": false
   },
   "outputs": [
    {
     "name": "stdout",
     "output_type": "stream",
     "text": [
      "30038007\n",
      "True\n"
     ]
    }
   ],
   "source": [
    "# cancel a job\n",
    "jobId = casjobs.submitJob(sql=CasJobs_TestQuery, context=CasJobs_TestDatabase)\n",
    "jobDescription = casjobs.cancelJob(jobId=jobId)\n",
    "print(jobId)\n",
    "print(jobDescription)"
   ]
  },
  {
   "cell_type": "code",
   "execution_count": 19,
   "metadata": {
    "collapsed": false
   },
   "outputs": [
    {
     "name": "stdout",
     "output_type": "stream",
     "text": [
      "True\n"
     ]
    }
   ],
   "source": [
    "# execute a query and write a local Fits file containing the query results:\n",
    "result = casjobs.writeFitsFileFromQuery(fileName=CasJobs_TestFitsFile, queryString=CasJobs_TestQuery, context=\"MyDB\")\n",
    "print(result)"
   ]
  },
  {
   "cell_type": "code",
   "execution_count": 20,
   "metadata": {
    "collapsed": false
   },
   "outputs": [],
   "source": [
    "# delete local FITS file just created:\n",
    "os.remove(CasJobs_TestFitsFile)"
   ]
  },
  {
   "cell_type": "code",
   "execution_count": 21,
   "metadata": {
    "collapsed": false
   },
   "outputs": [
    {
     "name": "stdout",
     "output_type": "stream",
     "text": [
      "   Column1  Column2\n",
      "0        4        5\n"
     ]
    }
   ],
   "source": [
    "# get a Pandas dataframe containing the results of a query\n",
    "df = casjobs.getPandasDataFrameFromQuery(queryString=CasJobs_TestQuery, context=CasJobs_TestDatabase)\n",
    "print(df)"
   ]
  },
  {
   "cell_type": "code",
   "execution_count": 22,
   "metadata": {
    "collapsed": false
   },
   "outputs": [
    {
     "name": "stdout",
     "output_type": "stream",
     "text": [
      "[[4 5]]\n"
     ]
    }
   ],
   "source": [
    "# get numpy array containing the results of a query\n",
    "array = casjobs.getNumpyArrayFromQuery(queryString=CasJobs_TestQuery, context=CasJobs_TestDatabase)\n",
    "print(array)"
   ]
  },
  {
   "cell_type": "code",
   "execution_count": 23,
   "metadata": {
    "collapsed": false
   },
   "outputs": [
    {
     "name": "stdout",
     "output_type": "stream",
     "text": [
      "True\n",
      "   Column1  Column2\n",
      "0        4        5\n"
     ]
    }
   ],
   "source": [
    "# uploads a Pandas dataframe into a Database table\n",
    "df = pandas.read_csv(StringIO(CasJobs_TestTableCSV), index_col=None)\n",
    "result = casjobs.uploadPandasDataFrameToTable(dataFrame=df, tableName=CasJobs_TestTableName2, context=\"MyDB\")\n",
    "table = casjobs.executeQuery(sql=\"select * from \" + CasJobs_TestTableName2, context=\"MyDB\", outformat=\"pandas\")\n",
    "print(result)\n",
    "print(table)"
   ]
  },
  {
   "cell_type": "code",
   "execution_count": 24,
   "metadata": {
    "collapsed": false
   },
   "outputs": [
    {
     "name": "stdout",
     "output_type": "stream",
     "text": [
      "   Rows Affected\n",
      "0              0\n"
     ]
    }
   ],
   "source": [
    "# drop or delete table just created:\n",
    "result2 = casjobs.executeQuery(sql=\"DROP TABLE \" + CasJobs_TestTableName2, context=CasJobs_TestDatabase, outformat=\"pandas\")\n",
    "print(result2)"
   ]
  },
  {
   "cell_type": "code",
   "execution_count": 25,
   "metadata": {
    "collapsed": false
   },
   "outputs": [
    {
     "name": "stdout",
     "output_type": "stream",
     "text": [
      "True\n",
      "   Column1  Column2\n",
      "0        4        5\n"
     ]
    }
   ],
   "source": [
    "# upload csv data string into a database table:\n",
    "result3 = casjobs.uploadCSVDataToTable(csvData=CasJobs_TestTableCSV, tableName=CasJobs_TestTableName2, context=\"MyDB\")\n",
    "df2 = casjobs.executeQuery(sql=\"select * from \" + CasJobs_TestTableName2, context=\"MyDB\", outformat=\"pandas\")\n",
    "print(result3)\n",
    "print(df2)"
   ]
  },
  {
   "cell_type": "code",
   "execution_count": 26,
   "metadata": {
    "collapsed": false
   },
   "outputs": [
    {
     "name": "stdout",
     "output_type": "stream",
     "text": [
      "   Rows Affected\n",
      "0              0\n"
     ]
    }
   ],
   "source": [
    "# drop or delete table just created:\n",
    "result4 = casjobs.executeQuery(sql=\"DROP TABLE \" + CasJobs_TestTableName2, context=\"MyDB\", outformat=\"pandas\")\n",
    "print(result4)"
   ]
  },
  {
   "cell_type": "markdown",
   "metadata": {
    "collapsed": true
   },
   "source": [
    "# SkyServer:"
   ]
  },
  {
   "cell_type": "code",
   "execution_count": 27,
   "metadata": {
    "collapsed": true
   },
   "outputs": [],
   "source": [
    "# defining sql query and SDSS data relelease:\n",
    "SkyServer_TestQuery = \"select top 1 specobjid, ra, dec from specobj order by specobjid\"\n",
    "SkyServer_DataRelease = \"DR13\""
   ]
  },
  {
   "cell_type": "code",
   "execution_count": 28,
   "metadata": {
    "collapsed": false
   },
   "outputs": [
    {
     "name": "stdout",
     "output_type": "stream",
     "text": [
      "            specobjid         ra       dec\n",
      "0  299489677444933632  146.71421 -1.041304\n"
     ]
    }
   ],
   "source": [
    "# Exectute sql query\n",
    "df = skyserver.sqlSearch(sql=SkyServer_TestQuery, dataRelease=SkyServer_DataRelease)\n",
    "print(df)"
   ]
  },
  {
   "cell_type": "code",
   "execution_count": 29,
   "metadata": {
    "collapsed": false
   },
   "outputs": [
    {
     "data": {
      "text/plain": [
       "<matplotlib.image.AxesImage at 0x11a9c6d10>"
      ]
     },
     "execution_count": 29,
     "metadata": {},
     "output_type": "execute_result"
    },
    {
     "data": {
      "image/png": "[encoded data removed]",
      "text/plain": [
       "<matplotlib.figure.Figure at 0x117f7f9d0>"
      ]
     },
     "metadata": {},
     "output_type": "display_data"
    }
   ],
   "source": [
    "# get an image cutout\n",
    "img = skyserver.getJpegImgCutout(ra=197.614455642896, dec=18.438168853724, width=2, height=2, scale=0.4, \n",
    "                                 dataRelease=SkyServer_DataRelease,opt=\"OG\",\n",
    "                                 query=\"SELECT TOP 100 p.objID, p.ra, p.dec, p.r FROM fGetObjFromRectEq(197.6,18.4,197.7,18.5) n, PhotoPrimary p WHERE n.objID=p.objID\")\n",
    "plt.imshow(img)"
   ]
  },
  {
   "cell_type": "code",
   "execution_count": 30,
   "metadata": {
    "collapsed": false
   },
   "outputs": [
    {
     "name": "stdout",
     "output_type": "stream",
     "text": [
      "                 objid   run  rerun  camcol  field  obj  type          ra  \\\n",
      "0  1237671939804561654  6162    301       3    133  246     3  258.250804   \n",
      "\n",
      "         dec         u        g         r         i         z     Err_u  \\\n",
      "0  64.051445  23.33982  22.3194  21.41105  21.11971  20.84277  0.664019   \n",
      "\n",
      "      Err_g    Err_r     Err_i     Err_z  \n",
      "0  0.116986  0.07641  0.080523  0.238198  \n"
     ]
    }
   ],
   "source": [
    "# do a radial search of objects:\n",
    "df = skyserver.radialSearch(ra=258.25, dec=64.05, radius=0.1, dataRelease=SkyServer_DataRelease)\n",
    "print(df)"
   ]
  },
  {
   "cell_type": "code",
   "execution_count": 31,
   "metadata": {
    "collapsed": false
   },
   "outputs": [
    {
     "name": "stdout",
     "output_type": "stream",
     "text": [
      "                 objid   run  rerun  camcol  field   obj  type          ra  \\\n",
      "0  1237671939804628290  6162    301       3    134  1346     6  258.304721   \n",
      "\n",
      "         dec        u         g        r         i         z     Err_u  \\\n",
      "0  64.006203  25.0008  24.50057  22.4854  21.10345  20.14999  0.995208   \n",
      "\n",
      "      Err_g     Err_r     Err_i     Err_z  \n",
      "0  0.565456  0.166184  0.071836  0.124986  \n"
     ]
    }
   ],
   "source": [
    "# do rectangular search of objects:\n",
    "df = skyserver.rectangularSearch(min_ra=258.3, max_ra=258.31, min_dec=64,max_dec=64.01, dataRelease=SkyServer_DataRelease)\n",
    "print(df)"
   ]
  },
  {
   "cell_type": "code",
   "execution_count": 32,
   "metadata": {
    "collapsed": false
   },
   "outputs": [
    {
     "name": "stdout",
     "output_type": "stream",
     "text": [
      "[{u'Rows': [{u'specId': None, u'name': u'', u'apid': u'', u'objId': u'0x112d1812608500f6', u'specObjId': u'', u'id': 1237671939804561654}], u'TableName': u'objectInfo'}, {u'Rows': [{u'mjd': 53879, u'camcol': 3, u'run': 6162, u'specObjId': None, u'objid': 1237671939804561654, u'field': 133, u'otype': u'GALAXY', u'survey': u'', u'ra': 258.250803912329, u'clean': 0, u'rerun': 301, u'obj': 246, u'dec': 64.0514446092202, u'mode': 1}], u'TableName': u'MetaData'}, {u'Rows': [{u'parentID': 1237671939804561638, u'GalaxyZoo_Morph': u'-', u'nChild': 0, u'camcol': 3, u'mjdNum': 53879, u'otype': u'GALAXY', u'field': 133, u'ra': 258.250803912329, u'u': 23.33982, u'run': 6162, u'petrorad_r': u'     1.51 &plusmn      0.161', u'photoZ_KD': u'  0.369 &plusmn   0.1088', u'objId': u'0x112d1812608500f6', u'fieldId': u'0x112d181260850000', u'err_u': 0.6640186, u'Other observations': 1, u'z': 20.84277, u'g': 22.3194, u'err_r': 0.07641038, u'i': 21.11971, u'err_z': 0.2381976, u'err_g': 0.1169861, u'r': 21.41105, u'flags': u'DEBLEND_NOPEAK DEBLENDED_AT_EDGE STATIONARY BINNED1 DEBLENDED_AS_PSF NOTCHECKED INTERP COSMIC_RAY NOPETRO NODEBLEND CHILD BLENDED EDGE ', u'mode': u'PRIMARY', u'clean': 0, u'rerun': 301, u'extinction_r': u'   0.06', u'dec': 64.0514446092202, u'err_i': 0.08052275}], u'TableName': u'ImagingData'}, {u'Rows': [{u'tablename': u'PhotoObjAll', u'name': u'err_g', u'unit': u'mag'}, {u'tablename': u'PhotoObjAll', u'name': u'err_i', u'unit': u'mag'}, {u'tablename': u'PhotoObjAll', u'name': u'err_r', u'unit': u'mag'}, {u'tablename': u'PhotoObjAll', u'name': u'err_u', u'unit': u'mag'}, {u'tablename': u'PhotoObjAll', u'name': u'err_z', u'unit': u'mag'}, {u'tablename': u'PhotoObjAll', u'name': u'extinction_r', u'unit': u'mag'}, {u'tablename': u'PhotoObjAll', u'name': u'g', u'unit': u'mag'}, {u'tablename': u'PhotoObjAll', u'name': u'i', u'unit': u'mag'}, {u'tablename': u'PhotoObjAll', u'name': u'mjd', u'unit': u'days'}, {u'tablename': u'PhotoObjAll', u'name': u'mode', u'unit': u''}, {u'tablename': u'PhotoObjAll', u'name': u'nChild', u'unit': u''}, {u'tablename': u'PhotoObjAll', u'name': u'nDetect', u'unit': u''}, {u'tablename': u'PhotoObjAll', u'name': u'parentID', u'unit': u''}, {u'tablename': u'PhotoObjAll', u'name': u'petroRad_r', u'unit': u'arcsec'}, {u'tablename': u'PhotoObjAll', u'name': u'r', u'unit': u'mag'}, {u'tablename': u'PhotoObjAll', u'name': u'u', u'unit': u'mag'}, {u'tablename': u'PhotoObjAll', u'name': u'z', u'unit': u'mag'}], u'TableName': u'ImagingDataUnits'}, {u'Rows': [], u'TableName': u'CrossId_USNO'}, {u'Rows': [{u'Minor axis (arcsec)': 0, u'Catalog': u'FIRST', u'Major axis (arcsec)': 0, u'Peak flux (mJy)': u'    0.00 &plusmn;     0.00'}], u'TableName': u'CrossId_FIRST'}, {u'Rows': [], u'TableName': u'CrossId_ROSAT'}, {u'Rows': [], u'TableName': u'CrossId_RC3'}, {u'Rows': [], u'TableName': u'CrossId_WISE'}, {u'Rows': [], u'TableName': u'CrossId_TWOMASS'}, {u'Rows': [{u'redshift': None, u'spectralClass': u'', u'fiberid': None, u'dec': 64.0514446092202, u'plateId': u'', u'otype': u'GALAXY', u'field': 133, u'ra': 258.250803912329, u'specObjId': u'', u'flags': u'DEBLEND_NOPEAK DEBLENDED_AT_EDGE STATIONARY BINNED1 DEBLENDED_AS_PSF NOTCHECKED INTERP COSMIC_RAY NOPETRO NODEBLEND CHILD BLENDED EDGE ', u'plate': None, u'run': 6162, u'run2d': u'', u'err_u': u'   0.66', u'fieldId': u'0x112d181260850000', u'mjd': None, u'z': u'  20.84', u'g': u'  22.32', u'err_r': u'   0.08', u'i': u'  21.12', u'err_z': u'   0.24', u'err_g': u'   0.12', u'r': u'  21.41', u'u': u'  23.34', u'rerun': 301, u'camcol': 3, u'err_i': u'   0.08', u'objId': u'0x112d1812608500f6'}], u'TableName': u'QuickLookMetaData'}, {u'Rows': [], u'TableName': u'SpectralData'}, {u'Rows': [], u'TableName': u'ApogeeData'}, {u'Rows': [], u'TableName': u'ApogeeVisits'}, {u'Rows': [], u'TableName': u'MangaData'}]\n"
     ]
    }
   ],
   "source": [
    "# do an object search based on RA,Dec coordinates:\n",
    "object = skyserver.objectSearch(ra=258.25, dec=64.05, dataRelease=SkyServer_DataRelease)\n",
    "print(object)"
   ]
  },
  {
   "cell_type": "markdown",
   "metadata": {
    "collapsed": true
   },
   "source": [
    "# SciDrive:"
   ]
  },
  {
   "cell_type": "code",
   "execution_count": 33,
   "metadata": {
    "collapsed": false
   },
   "outputs": [
    {
     "name": "stdout",
     "output_type": "stream",
     "text": [
      "{u'hash': u'wmGQtjL7xo3AYPaoT99wWA==', u'rev': 0, u'thumb_exists': False, u'bytes': 0, u'modified': u'Wed, 09 Aug 2017 13:33:11 -0400', u'items': 0, u'path': u'', u'is_dir': True, u'icon': u'folder_public', u'root': u'dropbox', u'contents': [], u'size': u'0 B'}\n"
     ]
    }
   ],
   "source": [
    "# list content and metadata of top level directory in SciDrive\n",
    "dirList = scidrive.directoryList(\"\")\n",
    "print(dirList)"
   ]
  },
  {
   "cell_type": "code",
   "execution_count": 34,
   "metadata": {
    "collapsed": true
   },
   "outputs": [],
   "source": [
    "# define name of directory to be created in SciDrive:\n",
    "SciDrive_Directory = \"SciScriptPython\"\n",
    "# define name, path and content of a file to be first created and then uploaded into SciDrive:\n",
    "SciDrive_FileName = \"TestFile.csv\"\n",
    "SciDrive_FilePath = \"./TestFile.csv\"\n",
    "SciDrive_FileContent = \"Column1,Column2\\n4.5,5.5\\n\""
   ]
  },
  {
   "cell_type": "code",
   "execution_count": 35,
   "metadata": {
    "collapsed": false
   },
   "outputs": [
    {
     "name": "stdout",
     "output_type": "stream",
     "text": [
      "True\n"
     ]
    }
   ],
   "source": [
    "# create a folder or container in SciDrive\n",
    "responseCreate = scidrive.createContainer(SciDrive_Directory)\n",
    "print(responseCreate)"
   ]
  },
  {
   "cell_type": "code",
   "execution_count": 36,
   "metadata": {
    "collapsed": false
   },
   "outputs": [
    {
     "name": "stdout",
     "output_type": "stream",
     "text": [
      "{u'hash': u'YFBGPUhsJX68/HAE5jL4fQ==', u'rev': 0, u'thumb_exists': False, u'bytes': 0, u'modified': u'Thu, 10 Aug 2017 10:13:46 -0400', u'items': 0, u'path': u'/SciScriptPython', u'is_dir': True, u'icon': u'folder_public', u'root': u'dropbox', u'contents': [], u'size': u'0 B'}\n"
     ]
    }
   ],
   "source": [
    "# list content and metadata of directory in SciDrive\n",
    "dirList = scidrive.directoryList(SciDrive_Directory)\n",
    "print(dirList)"
   ]
  },
  {
   "cell_type": "code",
   "execution_count": 37,
   "metadata": {
    "collapsed": false
   },
   "outputs": [
    {
     "name": "stdout",
     "output_type": "stream",
     "text": [
      "https://www.scidrive.org/vospace-2.0/data/2f1e95f2-0d41-4f12-87c4-b1c6a87929b2\n"
     ]
    }
   ],
   "source": [
    "# get the public url to access the directory content in SciDrive\n",
    "url = scidrive.publicUrl(SciDrive_Directory)\n",
    "print(url)"
   ]
  },
  {
   "cell_type": "code",
   "execution_count": 38,
   "metadata": {
    "collapsed": false
   },
   "outputs": [
    {
     "name": "stdout",
     "output_type": "stream",
     "text": [
      "True\n"
     ]
    }
   ],
   "source": [
    "# Delete folder or container in SciDrive:\n",
    "responseDelete = scidrive.delete(SciDrive_Directory)\n",
    "print(responseDelete)"
   ]
  },
  {
   "cell_type": "code",
   "execution_count": 39,
   "metadata": {
    "collapsed": false
   },
   "outputs": [],
   "source": [
    "# create a local file:\n",
    "file = open(SciDrive_FileName, \"w\")\n",
    "file.write(SciDrive_FileContent)\n",
    "file.close()"
   ]
  },
  {
   "cell_type": "code",
   "execution_count": 40,
   "metadata": {
    "collapsed": false
   },
   "outputs": [
    {
     "name": "stdout",
     "output_type": "stream",
     "text": [
      "{u'rev': 1, u'thumb_exists': False, u'bytes': 24, u'modified': u'Thu, 10 Aug 2017 10:13:49 -0400', u'path': u'/SciScriptPython/TestFile.csv', u'is_dir': False, u'icon': u'file', u'root': u'dropbox', u'mime_type': u'application/file', u'size': u'24 B'}\n"
     ]
    }
   ],
   "source": [
    "# uploading a file to SciDrive:\n",
    "responseUpload = scidrive.upload(path=SciDrive_Directory + \"/\" + SciDrive_FileName, localFilePath=SciDrive_FilePath)\n",
    "print(responseUpload)"
   ]
  },
  {
   "cell_type": "code",
   "execution_count": 41,
   "metadata": {
    "collapsed": false
   },
   "outputs": [
    {
     "name": "stdout",
     "output_type": "stream",
     "text": [
      "Column1,Column2\n",
      "4.5,5.5\n",
      "\n"
     ]
    }
   ],
   "source": [
    "# download file:\n",
    "stringio = scidrive.download(path=SciDrive_Directory + \"/\" + SciDrive_FileName, outformat=\"StringIO\")\n",
    "fileContent = stringio.read()\n",
    "print(fileContent)"
   ]
  },
  {
   "cell_type": "code",
   "execution_count": 42,
   "metadata": {
    "collapsed": false
   },
   "outputs": [
    {
     "name": "stdout",
     "output_type": "stream",
     "text": [
      "Column1,Column2\n",
      "4.5,5.5\n",
      "\n"
     ]
    }
   ],
   "source": [
    "# upload string data:\n",
    "responseUpload = scidrive.upload(path=SciDrive_Directory + \"/\" + SciDrive_FileName, data=SciDrive_FileContent)\n",
    "fileContent = scidrive.download(path=SciDrive_Directory + \"/\" + SciDrive_FileName, outformat=\"text\")\n",
    "print(fileContent)"
   ]
  },
  {
   "cell_type": "code",
   "execution_count": 43,
   "metadata": {
    "collapsed": false
   },
   "outputs": [
    {
     "name": "stdout",
     "output_type": "stream",
     "text": [
      "True\n"
     ]
    }
   ],
   "source": [
    "# delete folder in SciDrive:\n",
    "responseDelete = scidrive.delete(SciDrive_Directory)\n",
    "print(responseDelete)"
   ]
  },
  {
   "cell_type": "code",
   "execution_count": 44,
   "metadata": {
    "collapsed": false
   },
   "outputs": [],
   "source": [
    "# delete local file:\n",
    "os.remove(SciDrive_FilePath)"
   ]
  },
  {
   "cell_type": "markdown",
   "metadata": {
    "collapsed": true
   },
   "source": [
    "# SkyQuery:"
   ]
  },
  {
   "cell_type": "code",
   "execution_count": 45,
   "metadata": {
    "collapsed": false
   },
   "outputs": [
    {
     "name": "stdout",
     "output_type": "stream",
     "text": [
      "[{u'name': u'SDSSDR7', u'isMutable': False}, {u'name': u'MYDB', u'isMutable': True}, {u'name': u'PSCz', u'isMutable': False}, {u'name': u'FUSE', u'isMutable': False}, {u'name': u'TwoDF', u'isMutable': False}, {u'name': u'SDSSDR12', u'isMutable': False}, {u'name': u'TwoMASS', u'isMutable': False}, {u'name': u'TwoQZ', u'isMutable': False}, {u'name': u'MYSCRATCH', u'isMutable': True}, {u'name': u'SDSSDR13', u'isMutable': False}, {u'name': u'NDWFS', u'isMutable': False}, {u'name': u'DLS', u'isMutable': False}, {u'name': u'IRAS', u'isMutable': False}, {u'name': u'GALEX', u'isMutable': False}, {u'name': u'RC3', u'isMutable': False}, {u'name': u'USNOB', u'isMutable': False}, {u'name': u'AGC', u'isMutable': False}, {u'name': u'WISE', u'isMutable': False}, {u'name': u'NVSS', u'isMutable': False}]\n"
     ]
    }
   ],
   "source": [
    "# list all databses or datasets available\n",
    "datasets = skyquery.listAllDatasets()\n",
    "print(datasets)"
   ]
  },
  {
   "cell_type": "code",
   "execution_count": 46,
   "metadata": {
    "collapsed": false
   },
   "outputs": [
    {
     "name": "stdout",
     "output_type": "stream",
     "text": [
      "{u'name': u'MYDB', u'isMutable': True}\n"
     ]
    }
   ],
   "source": [
    "# get info about the user's personal database or dataset\n",
    "info = skyquery.getDatasetInfo(\"MyDB\")\n",
    "print(info)"
   ]
  },
  {
   "cell_type": "code",
   "execution_count": 47,
   "metadata": {
    "collapsed": false
   },
   "outputs": [
    {
     "name": "stdout",
     "output_type": "stream",
     "text": [
      "[{u'name': u'webuser.QuickResults', u'summary': u'', u'example': u'', u'remarks': u'', u'class': u'', u'columns': [{u'name': u'Column2', u'dataType': u'decimal', u'summary': u'', u'remarks': u'', u'size': 16, u'class': u'', u'unit': u'', u'quantity': u''}, {u'name': u'Column1', u'dataType': u'decimal', u'summary': u'', u'remarks': u'', u'size': 16, u'class': u'', u'unit': u'', u'quantity': u''}]}]\n"
     ]
    }
   ],
   "source": [
    "# list tables inside dataset\n",
    "tables = skyquery.listDatasetTables(\"MyDB\")\n",
    "print(tables)"
   ]
  },
  {
   "cell_type": "code",
   "execution_count": 48,
   "metadata": {
    "collapsed": false
   },
   "outputs": [
    {
     "name": "stdout",
     "output_type": "stream",
     "text": [
      "[{u'pendingJobCount': 0, u'name': u'Maintenance'}, {u'pendingJobCount': 0, u'name': u'Long'}, {u'pendingJobCount': 0, u'name': u'Quick'}]\n"
     ]
    }
   ],
   "source": [
    "# list available job queues\n",
    "queueList = skyquery.listQueues()\n",
    "print(queueList)"
   ]
  },
  {
   "cell_type": "code",
   "execution_count": 49,
   "metadata": {
    "collapsed": false
   },
   "outputs": [
    {
     "name": "stdout",
     "output_type": "stream",
     "text": [
      "{u'pendingJobCount': 0, u'name': u'Quick'}\n",
      "{u'pendingJobCount': 0, u'name': u'Long'}\n"
     ]
    }
   ],
   "source": [
    "# list available job queues and related info\n",
    "quick = skyquery.getQueueInfo('quick')\n",
    "long= skyquery.getQueueInfo('long')\n",
    "print(quick)\n",
    "print(long)"
   ]
  },
  {
   "cell_type": "code",
   "execution_count": 50,
   "metadata": {
    "collapsed": true
   },
   "outputs": [],
   "source": [
    "# Define query\n",
    "SkyQuery_Query = \"select 4.5 as Column1, 5.5 as Column2\""
   ]
  },
  {
   "cell_type": "code",
   "execution_count": 51,
   "metadata": {
    "collapsed": false
   },
   "outputs": [
    {
     "name": "stdout",
     "output_type": "stream",
     "text": [
      "2788efc1-120a-4862-83ac-2ee9075535b4\n"
     ]
    }
   ],
   "source": [
    "# submit a query as a job\n",
    "jobId = skyquery.submitJob(query=SkyQuery_Query, queue=\"quick\")\n",
    "print(jobId)"
   ]
  },
  {
   "cell_type": "code",
   "execution_count": 52,
   "metadata": {
    "collapsed": false
   },
   "outputs": [
    {
     "name": "stdout",
     "output_type": "stream",
     "text": [
      "{u'status': u'waiting', u'hasError': False, u'name': u'testuser_17081010135799095', u'comments': u'', u'dateCreated': u'2017-08-10T10:13:57', u'queue': u'quick', u'query': u'select 4.5 as Column1, 5.5 as Column2', u'canCancel': True, u'guid': u'b56bec9f-0801-4f46-b978-03592e97cb08'}\n"
     ]
    }
   ],
   "source": [
    "# get status of a submitted job\n",
    "jobId = skyquery.submitJob(query=SkyQuery_Query, queue=\"quick\")\n",
    "jobDescription = skyquery.getJobStatus(jobId=jobId)\n",
    "print(jobDescription)"
   ]
  },
  {
   "cell_type": "code",
   "execution_count": 54,
   "metadata": {
    "collapsed": false
   },
   "outputs": [
    {
     "name": "stdout",
     "output_type": "stream",
     "text": [
      "Waiting...Waiting...Waiting...Waiting...Waiting...Done!\n",
      "jobDescription=\n",
      "{u'status': u'completed', u'hasError': False, u'name': u'testuser_17081010141198516', u'comments': u'', u'dateCreated': u'2017-08-10T10:14:11', u'queue': u'quick', u'query': u'select 4.5 as Column1, 5.5 as Column2', u'output': u'MYDB:webuser.QuickResults', u'dateStarted': u'2017-08-10T10:14:15', u'canCancel': False, u'dateFinished': u'2017-08-10T10:14:16', u'guid': u'bbbdba2f-5092-4c7c-b1ad-cc17028edf7d'}\n"
     ]
    }
   ],
   "source": [
    "# wait for a job to be finished and then get the status\n",
    "jobId = skyquery.submitJob(query=SkyQuery_Query, queue=\"quick\")\n",
    "jobDescription = skyquery.waitForJob(jobId=jobId, verbose=True)\n",
    "print(\"jobDescription=\")\n",
    "print(jobDescription)"
   ]
  },
  {
   "cell_type": "code",
   "execution_count": 55,
   "metadata": {
    "collapsed": false
   },
   "outputs": [
    {
     "name": "stdout",
     "output_type": "stream",
     "text": [
      "True\n",
      "job status:\n",
      "{u'status': u'canceled', u'hasError': False, u'name': u'testuser_17081010141956707', u'comments': u'', u'dateCreated': u'2017-08-10T10:14:19', u'queue': u'long', u'query': u'select 4.5 as Column1, 5.5 as Column2', u'canCancel': False, u'dateFinished': u'2017-08-10T10:14:19', u'guid': u'5c0c5dad-7b74-4feb-a9d2-e60180487ca3'}\n"
     ]
    }
   ],
   "source": [
    "# cancel a job that is running, and then get its status\n",
    "jobId = skyquery.submitJob(query=SkyQuery_Query, queue=\"long\")\n",
    "isCanceled = skyquery.cancelJob(jobId)\n",
    "print(isCanceled)\n",
    "print(\"job status:\")\n",
    "print(skyquery.getJobStatus(jobId=jobId))"
   ]
  },
  {
   "cell_type": "code",
   "execution_count": 56,
   "metadata": {
    "collapsed": false
   },
   "outputs": [
    {
     "name": "stdout",
     "output_type": "stream",
     "text": [
      "[{u'queryJob': {u'status': u'completed', u'hasError': False, u'name': u'testuser_17081010141198516', u'comments': u'', u'dateCreated': u'2017-08-10T10:14:11', u'queue': u'quick', u'query': u'select 4.5 as Column1, 5.5 as Column2', u'output': u'MYDB:webuser.QuickResults', u'dateStarted': u'2017-08-10T10:14:15', u'canCancel': False, u'dateFinished': u'2017-08-10T10:14:16', u'guid': u'bbbdba2f-5092-4c7c-b1ad-cc17028edf7d'}}, {u'queryJob': {u'status': u'completed', u'hasError': False, u'name': u'testuser_17081010135877545', u'comments': u'', u'dateCreated': u'2017-08-10T10:13:58', u'queue': u'quick', u'query': u'select 4.5 as Column1, 5.5 as Column2', u'output': u'MYDB:webuser.QuickResults', u'dateStarted': u'2017-08-10T10:14:00', u'canCancel': False, u'dateFinished': u'2017-08-10T10:14:00', u'guid': u'23df0902-672c-48eb-a72d-5183d029fa72'}}, {u'queryJob': {u'status': u'completed', u'hasError': False, u'name': u'testuser_17081010135799095', u'comments': u'', u'dateCreated': u'2017-08-10T10:13:57', u'queue': u'quick', u'query': u'select 4.5 as Column1, 5.5 as Column2', u'output': u'MYDB:webuser.QuickResults', u'dateStarted': u'2017-08-10T10:14:00', u'canCancel': False, u'dateFinished': u'2017-08-10T10:14:00', u'guid': u'b56bec9f-0801-4f46-b978-03592e97cb08'}}, {u'queryJob': {u'status': u'completed', u'hasError': False, u'name': u'testuser_17081010135771162', u'comments': u'', u'dateCreated': u'2017-08-10T10:13:57', u'queue': u'quick', u'query': u'select 4.5 as Column1, 5.5 as Column2', u'output': u'MYDB:webuser.QuickResults', u'dateStarted': u'2017-08-10T10:14:00', u'canCancel': False, u'dateFinished': u'2017-08-10T10:14:01', u'guid': u'2788efc1-120a-4862-83ac-2ee9075535b4'}}, {u'queryJob': {u'status': u'completed', u'hasError': False, u'name': u'testuser_17081010105868252', u'comments': u'', u'dateCreated': u'2017-08-10T10:10:58', u'queue': u'quick', u'query': u'select 4.5 as Column1, 5.5 as Column2', u'output': u'MYDB:webuser.QuickResults', u'dateStarted': u'2017-08-10T10:11:04', u'canCancel': False, u'dateFinished': u'2017-08-10T10:11:08', u'guid': u'b6f85923-693e-42d0-b7e6-59d12c4d0643'}}, {u'queryJob': {u'status': u'completed', u'hasError': False, u'name': u'testuser_17081010105804578', u'comments': u'', u'dateCreated': u'2017-08-10T10:10:58', u'queue': u'quick', u'query': u'select 4.5 as Column1, 5.5 as Column2', u'output': u'MYDB:webuser.QuickResults', u'dateStarted': u'2017-08-10T10:11:03', u'canCancel': False, u'dateFinished': u'2017-08-10T10:11:08', u'guid': u'97c1dd96-1658-4a85-b32b-28e0941229c2'}}, {u'queryJob': {u'status': u'completed', u'hasError': False, u'name': u'testuser_17081010105798571', u'comments': u'', u'dateCreated': u'2017-08-10T10:10:57', u'queue': u'quick', u'query': u'select 4.5 as Column1, 5.5 as Column2', u'output': u'MYDB:webuser.QuickResults', u'dateStarted': u'2017-08-10T10:11:04', u'canCancel': False, u'dateFinished': u'2017-08-10T10:11:10', u'guid': u'2e78e11e-c1d3-4144-8f91-c19b8de8d73c'}}, {u'queryJob': {u'status': u'completed', u'hasError': False, u'name': u'testuser_17081009460969412', u'comments': u'', u'dateCreated': u'2017-08-10T09:46:09', u'queue': u'quick', u'query': u'select 4.5 as Column1, 5.5 as Column2', u'output': u'MYDB:webuser.QuickResults', u'dateStarted': u'2017-08-10T09:46:12', u'canCancel': False, u'dateFinished': u'2017-08-10T09:46:18', u'guid': u'71393809-477b-4435-bebd-395a9df09f22'}}, {u'queryJob': {u'status': u'completed', u'hasError': False, u'name': u'testuser_17081009460906169', u'comments': u'', u'dateCreated': u'2017-08-10T09:46:09', u'queue': u'quick', u'query': u'select 4.5 as Column1, 5.5 as Column2', u'output': u'MYDB:webuser.QuickResults', u'dateStarted': u'2017-08-10T09:46:12', u'canCancel': False, u'dateFinished': u'2017-08-10T09:46:15', u'guid': u'15b31107-711f-4e9d-8d55-fc1be7594957'}}, {u'queryJob': {u'status': u'completed', u'hasError': False, u'name': u'testuser_17081009460765476', u'comments': u'', u'dateCreated': u'2017-08-10T09:46:07', u'queue': u'quick', u'query': u'select 4.5 as Column1, 5.5 as Column2', u'output': u'MYDB:webuser.QuickResults', u'dateStarted': u'2017-08-10T09:46:12', u'canCancel': False, u'dateFinished': u'2017-08-10T09:46:15', u'guid': u'19c1126f-906b-451a-b94b-db925e059eb6'}}]\n",
      "[{u'queryJob': {u'status': u'canceled', u'hasError': False, u'name': u'testuser_17081010141956707', u'comments': u'', u'dateCreated': u'2017-08-10T10:14:19', u'queue': u'long', u'query': u'select 4.5 as Column1, 5.5 as Column2', u'canCancel': False, u'dateFinished': u'2017-08-10T10:14:19', u'guid': u'5c0c5dad-7b74-4feb-a9d2-e60180487ca3'}}, {u'queryJob': {u'status': u'canceled', u'hasError': False, u'name': u'testuser_17081010110929506', u'comments': u'', u'dateCreated': u'2017-08-10T10:11:09', u'queue': u'long', u'query': u'select 4.5 as Column1, 5.5 as Column2', u'canCancel': False, u'dateFinished': u'2017-08-10T10:11:09', u'guid': u'b20ca3ae-6cd8-4c59-9c61-b3bcc035dec6'}}, {u'queryJob': {u'status': u'canceled', u'hasError': False, u'name': u'testuser_17081009462028603', u'comments': u'', u'dateCreated': u'2017-08-10T09:46:20', u'queue': u'long', u'query': u'select 4.5 as Column1, 5.5 as Column2', u'canCancel': False, u'dateFinished': u'2017-08-10T09:46:20', u'guid': u'938e113a-6ab0-43fa-98d9-1ed7b1676c48'}}, {u'queryJob': {u'status': u'canceled', u'hasError': False, u'name': u'testuser_17081008242214226', u'comments': u'', u'dateCreated': u'2017-08-10T08:24:22', u'queue': u'long', u'query': u'select 4.5 as Column1, 5.5 as Column2', u'canCancel': False, u'dateFinished': u'2017-08-10T08:24:22', u'guid': u'17f62f51-effe-487f-8812-15c84e34baad'}}, {u'queryJob': {u'status': u'canceled', u'hasError': False, u'name': u'testuser_17081008234358002', u'comments': u'', u'dateCreated': u'2017-08-10T08:23:43', u'queue': u'long', u'query': u'select 4.5 as Column1, 5.5 as Column2', u'canCancel': False, u'dateFinished': u'2017-08-10T08:23:43', u'guid': u'22281fa8-c56c-4da3-9d79-0453751d40c6'}}, {u'queryJob': {u'status': u'canceled', u'hasError': False, u'name': u'testuser_17080923351240196', u'comments': u'', u'dateCreated': u'2017-08-09T23:35:12', u'queue': u'long', u'query': u'select 4.5 as Column1, 5.5 as Column2', u'canCancel': False, u'dateFinished': u'2017-08-09T23:35:12', u'guid': u'1ddc1173-d449-453b-baf1-1f113c551b86'}}, {u'queryJob': {u'status': u'canceled', u'hasError': False, u'name': u'testuser_17080913522250945', u'comments': u'', u'dateCreated': u'2017-08-09T13:52:22', u'queue': u'long', u'query': u'select 4.5 as Column1, 5.5 as Column2', u'canCancel': False, u'dateFinished': u'2017-08-09T13:52:23', u'guid': u'887b16a5-cf78-4521-ad8a-a4c5cba10c2e'}}, {u'queryJob': {u'status': u'canceled', u'hasError': False, u'name': u'testuser_17080913360580949', u'comments': u'', u'dateCreated': u'2017-08-09T13:36:05', u'queue': u'long', u'query': u'select 4.5 as Column1, 5.5 as Column2', u'canCancel': False, u'dateFinished': u'2017-08-09T13:36:06', u'guid': u'af684bc1-6b4b-4107-8a41-0a1decae9155'}}, {u'queryJob': {u'status': u'canceled', u'hasError': False, u'name': u'testuser_17080913325422783', u'comments': u'', u'dateCreated': u'2017-08-09T13:32:54', u'queue': u'long', u'query': u'select 4.5 as Column1, 5.5 as Column2', u'canCancel': False, u'dateFinished': u'2017-08-09T13:32:54', u'guid': u'19ccddff-ce26-4871-9f23-263a0813ed5b'}}]\n"
     ]
    }
   ],
   "source": [
    "# get list of jobs\n",
    "quickJobsList = skyquery.listJobs('quick')\n",
    "longJobsList = skyquery.listJobs('long')\n",
    "print(quickJobsList)\n",
    "print(longJobsList)"
   ]
  },
  {
   "cell_type": "code",
   "execution_count": 57,
   "metadata": {
    "collapsed": true
   },
   "outputs": [],
   "source": [
    "# define csv table to be uploaded to into MyDB in SkyQuery\n",
    "SkyQuery_TestTableName = \"TestTable_SciScript_R\"\n",
    "SkyQuery_TestTableCSV = u\"Column1,Column2\\n4.5,5.5\\n\""
   ]
  },
  {
   "cell_type": "code",
   "execution_count": 58,
   "metadata": {
    "collapsed": false
   },
   "outputs": [
    {
     "name": "stdout",
     "output_type": "stream",
     "text": [
      "True\n"
     ]
    }
   ],
   "source": [
    "# uploading the csv table:\n",
    "result = skyquery.uploadTable(uploadData=SkyQuery_TestTableCSV, tableName=SkyQuery_TestTableName, datasetName=\"MyDB\", informat=\"csv\")\n",
    "print(result)"
   ]
  },
  {
   "cell_type": "code",
   "execution_count": 59,
   "metadata": {
    "collapsed": false
   },
   "outputs": [
    {
     "name": "stdout",
     "output_type": "stream",
     "text": [
      "   #ID  Column1  Column2\n",
      "0    1      4.5      5.5\n"
     ]
    }
   ],
   "source": [
    "# downloading table:\n",
    "table = skyquery.getTable(tableName=SkyQuery_TestTableName, datasetName=\"MyDB\", top=10)\n",
    "print(table)"
   ]
  },
  {
   "cell_type": "code",
   "execution_count": 60,
   "metadata": {
    "collapsed": false
   },
   "outputs": [
    {
     "name": "stdout",
     "output_type": "stream",
     "text": [
      "[{u'name': u'webuser.TestTable_SciScript_R', u'summary': u'', u'example': u'', u'remarks': u'', u'class': u'', u'columns': [{u'name': u'Column2', u'dataType': u'float', u'summary': u'', u'remarks': u'', u'size': 8, u'class': u'', u'unit': u'', u'quantity': u''}, {u'name': u'ID', u'dataType': u'bigint', u'summary': u'', u'remarks': u'', u'size': 8, u'class': u'', u'unit': u'', u'quantity': u''}, {u'name': u'Column1', u'dataType': u'float', u'summary': u'', u'remarks': u'', u'size': 8, u'class': u'', u'unit': u'', u'quantity': u''}]}, {u'name': u'webuser.QuickResults', u'summary': u'', u'example': u'', u'remarks': u'', u'class': u'', u'columns': [{u'name': u'Column2', u'dataType': u'decimal', u'summary': u'', u'remarks': u'', u'size': 16, u'class': u'', u'unit': u'', u'quantity': u''}, {u'name': u'Column1', u'dataType': u'decimal', u'summary': u'', u'remarks': u'', u'size': 16, u'class': u'', u'unit': u'', u'quantity': u''}]}]\n"
     ]
    }
   ],
   "source": [
    "# list tables inside dataset\n",
    "tables = skyquery.listDatasetTables(\"MyDB\")\n",
    "print(tables)"
   ]
  },
  {
   "cell_type": "code",
   "execution_count": 61,
   "metadata": {
    "collapsed": false
   },
   "outputs": [
    {
     "name": "stdout",
     "output_type": "stream",
     "text": [
      "{u'name': u'webuser.TestTable_SciScript_R', u'summary': u'', u'example': u'', u'remarks': u'', u'class': u'', u'columns': [{u'name': u'Column2', u'dataType': u'float', u'summary': u'', u'remarks': u'', u'size': 8, u'class': u'', u'unit': u'', u'quantity': u''}, {u'name': u'ID', u'dataType': u'bigint', u'summary': u'', u'remarks': u'', u'size': 8, u'class': u'', u'unit': u'', u'quantity': u''}, {u'name': u'Column1', u'dataType': u'float', u'summary': u'', u'remarks': u'', u'size': 8, u'class': u'', u'unit': u'', u'quantity': u''}]}\n"
     ]
    }
   ],
   "source": [
    "# get dataset table info:\n",
    "info = skyquery.getTableInfo(tableName=\"webuser.\" + SkyQuery_TestTableName, datasetName=\"MyDB\")\n",
    "print(info)"
   ]
  },
  {
   "cell_type": "code",
   "execution_count": 62,
   "metadata": {
    "collapsed": false
   },
   "outputs": [
    {
     "name": "stdout",
     "output_type": "stream",
     "text": [
      "[{u'name': u'Column2', u'dataType': u'float', u'summary': u'', u'remarks': u'', u'size': 8, u'class': u'', u'unit': u'', u'quantity': u''}, {u'name': u'ID', u'dataType': u'bigint', u'summary': u'', u'remarks': u'', u'size': 8, u'class': u'', u'unit': u'', u'quantity': u''}, {u'name': u'Column1', u'dataType': u'float', u'summary': u'', u'remarks': u'', u'size': 8, u'class': u'', u'unit': u'', u'quantity': u''}]\n"
     ]
    }
   ],
   "source": [
    "# get dataset table columns info\n",
    "columns = skyquery.listTableColumns(tableName=\"webuser.\" + SkyQuery_TestTableName, datasetName=\"MyDB\")\n",
    "print(columns)"
   ]
  },
  {
   "cell_type": "code",
   "execution_count": 63,
   "metadata": {
    "collapsed": false
   },
   "outputs": [
    {
     "name": "stdout",
     "output_type": "stream",
     "text": [
      "True\n"
     ]
    }
   ],
   "source": [
    "# drop (or delete) table from dataset.\n",
    "result = skyquery.dropTable(tableName=SkyQuery_TestTableName, datasetName=\"MyDB\");\n",
    "print(result)"
   ]
  },
  {
   "cell_type": "code",
   "execution_count": null,
   "metadata": {
    "collapsed": true
   },
   "outputs": [],
   "source": []
  },
  {
   "cell_type": "code",
   "execution_count": null,
   "metadata": {
    "collapsed": true
   },
   "outputs": [],
   "source": []
  }
 ],
 "metadata": {
  "anaconda-cloud": {},
  "kernelspec": {
   "display_name": "Python [default]",
   "language": "python",
   "name": "python2"
  },
  "language_info": {
   "codemirror_mode": {
    "name": "ipython",
    "version": 2
   },
   "file_extension": ".py",
   "mimetype": "text/x-python",
   "name": "python",
   "nbconvert_exporter": "python",
   "pygments_lexer": "ipython2",
   "version": "2.7.12"
  }
 },
 "nbformat": 4,
 "nbformat_minor": 0
}
